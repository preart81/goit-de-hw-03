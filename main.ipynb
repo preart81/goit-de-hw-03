{
 "cells": [
  {
   "cell_type": "markdown",
   "metadata": {},
   "source": [
    "# goit-de-hw-03. Аналіз даних у PySpark"
   ]
  },
  {
   "cell_type": "markdown",
   "metadata": {},
   "source": [
    "## Завдання\n"
   ]
  },
  {
   "cell_type": "markdown",
   "metadata": {},
   "source": [
    "**Початкові дані**\n",
    "\n",
    "Вхідні CSV-файли:\n",
    "\n",
    "1. [users.csv](csv/users.csv) — дані користувачів:\n",
    "\n",
    "- `user_id` (унікальний ідентифікатор користувача)\n",
    "- `name` (ім'я користувача)\n",
    "- `age` (вік користувача)\n",
    "- `email` (електронна адреса)\n",
    "\n",
    "2. [purchases.csv](csv/purchases.csv) — дані про покупки:\n",
    "\n",
    "- `purchase_id` (унікальний ідентифікатор покупки)\n",
    "- `user_id` (ідентифікатор користувача, який зробив покупку)\n",
    "- `product_id` (унікальний ідентифікатор продукту)\n",
    "- `date` (дата покупки)\n",
    "- `quantity` (кількість одиниць купленого товару)\n",
    "\n",
    "3. [products.csv)](csv/products.csv) — інформація про продукти:\n",
    "\n",
    "- `product_id` (унікальний ідентифікатор продукту)\n",
    "- `product_name` (назва продукту)\n",
    "- `category` (категорія продукту)\n",
    "- `price` (ціна одиниці товару)\n",
    "\n",
    "**Завдання**\n",
    "\n",
    "1. Завантажте та прочитайте кожен CSV-файл як окремий DataFrame.\n",
    "2. Очистіть дані, видаляючи будь-які рядки з пропущеними значеннями.\n",
    "3. Визначте загальну суму покупок за кожною категорією продуктів.\n",
    "4. Визначте суму покупок за кожною категорією продуктів для вікової категорії від 18 до 25 включно.\n",
    "5. Визначте частку покупок за кожною категорією товарів від сумарних витрат для вікової категорії від 18 до 25 років.\n",
    "6. Виберіть 3 категорії продуктів з найвищим відсотком витрат споживачами віком від 18 до 25 років.\n",
    "\n",
    "   💡 Відсоток потрібно округлити до другого знака після коми."
   ]
  },
  {
   "cell_type": "markdown",
   "metadata": {},
   "source": [
    "## Рішення\n"
   ]
  },
  {
   "cell_type": "markdown",
   "metadata": {},
   "source": [
    "### 1. Завантажте та прочитайте кожен CSV-файл як окремий DataFrame."
   ]
  },
  {
   "cell_type": "code",
   "execution_count": 1,
   "metadata": {},
   "outputs": [
    {
     "name": "stdout",
     "output_type": "stream",
     "text": [
      "root\n",
      " |-- user_id: integer (nullable = true)\n",
      " |-- name: string (nullable = true)\n",
      " |-- age: integer (nullable = true)\n",
      " |-- email: string (nullable = true)\n",
      "\n",
      "root\n",
      " |-- product_id: integer (nullable = true)\n",
      " |-- product_name: string (nullable = true)\n",
      " |-- category: string (nullable = true)\n",
      " |-- price: double (nullable = true)\n",
      "\n",
      "root\n",
      " |-- purchase_id: integer (nullable = true)\n",
      " |-- user_id: integer (nullable = true)\n",
      " |-- product_id: integer (nullable = true)\n",
      " |-- date: date (nullable = true)\n",
      " |-- quantity: integer (nullable = true)\n",
      "\n"
     ]
    }
   ],
   "source": [
    "from pyspark.sql import SparkSession\n",
    "from pyspark.sql.functions import col, round, sum as _sum\n",
    "\n",
    "# Створюємо сесію Spark\n",
    "spark = SparkSession.builder.appName(\"goit-de-hw-03\").getOrCreate()\n",
    "\n",
    "\n",
    "# Завантажуємо датасет в окремі DataFrame\n",
    "df_users = spark.read.csv(\"./csv/users.csv\", header=True, inferSchema=True)\n",
    "df_products = spark.read.csv(\"./csv/products.csv\", header=True, inferSchema=True)\n",
    "df_purchases = spark.read.csv(\"./csv/purchases.csv\", header=True, inferSchema=True)\n",
    "\n",
    "\n",
    "# Структура даних\n",
    "df_users.printSchema()\n",
    "df_products.printSchema()\n",
    "df_purchases.printSchema()"
   ]
  },
  {
   "cell_type": "markdown",
   "metadata": {},
   "source": [
    "### 2. Очистіть дані, видаляючи будь-які рядки з пропущеними значеннями."
   ]
  },
  {
   "cell_type": "code",
   "execution_count": 2,
   "metadata": {},
   "outputs": [
    {
     "name": "stdout",
     "output_type": "stream",
     "text": [
      "Кількість записів до очищення:\n",
      "df_users.count() = 100\n",
      "df_products.count() = 50\n",
      "df_purchases.count() = 200\n",
      "Кількість записів після очищення:\n",
      "df_users.count() = 95\n",
      "df_products.count() = 47\n",
      "df_purchases.count() = 195\n"
     ]
    }
   ],
   "source": [
    "print('Кількість записів до очищення:')\n",
    "print(f\"{df_users.count() = }\")\n",
    "print(f\"{df_products.count() = }\")\n",
    "print(f\"{df_purchases.count() = }\")\n",
    "\n",
    "# Видаляємо будь-які рядки з пропущеними значеннями.\n",
    "df_users = df_users.dropna()\n",
    "df_products = df_products.dropna()\n",
    "df_purchases = df_purchases.dropna()\n",
    "\n",
    "print(\"Кількість записів після очищення:\")\n",
    "print(f\"{df_users.count() = }\")\n",
    "print(f\"{df_products.count() = }\")\n",
    "print(f\"{df_purchases.count() = }\")"
   ]
  },
  {
   "cell_type": "markdown",
   "metadata": {},
   "source": [
    "### 3. Визначте загальну суму покупок за кожною категорією продуктів.\n",
    "\n",
    "Об'єднаємо датафреми в один і додамо поле загальної суми покупки.\n"
   ]
  },
  {
   "cell_type": "code",
   "execution_count": 3,
   "metadata": {},
   "outputs": [
    {
     "name": "stdout",
     "output_type": "stream",
     "text": [
      "+----------+-------+--------+---+-------------------+-----------+----------+--------+------------+-----------+-----+------------------+\n",
      "|product_id|user_id|    name|age|              email|purchase_id|      date|quantity|product_name|   category|price|        total_cost|\n",
      "+----------+-------+--------+---+-------------------+-----------+----------+--------+------------+-----------+-----+------------------+\n",
      "|         9|     52| User_52| 39| user52@example.com|          1|2022-01-01|       1|   Product_9|     Beauty|  6.0|               6.0|\n",
      "|        37|     93| User_93| 25| user93@example.com|          2|2022-01-02|       8|  Product_37|   Clothing|  6.0|              48.0|\n",
      "|        33|     15| User_15| 30| user15@example.com|          3|2022-01-03|       1|  Product_33|       Home|  9.4|               9.4|\n",
      "|        42|     72| User_72| 39| user72@example.com|          4|2022-01-04|       9|  Product_42|     Beauty|  9.1| 81.89999999999999|\n",
      "|        24|     21| User_21| 37| user21@example.com|          6|2022-01-06|       7|  Product_24|Electronics|  2.1|14.700000000000001|\n",
      "|        32|     87| User_87| 38| user87@example.com|          8|2022-01-08|       3|  Product_32|       Home|  8.8|26.400000000000002|\n",
      "|        32|     75| User_75| 40| user75@example.com|          9|2022-01-09|       2|  Product_32|       Home|  8.8|              17.6|\n",
      "|        24|     75| User_75| 40| user75@example.com|         10|2022-01-10|       9|  Product_24|Electronics|  2.1|18.900000000000002|\n",
      "|        41|     88| User_88| 25| user88@example.com|         11|2022-01-11|       8|  Product_41|     Sports|  5.9|              47.2|\n",
      "|        49|    100|User_100| 26|user100@example.com|         12|2022-01-12|       7|  Product_49|     Sports|  9.7| 67.89999999999999|\n",
      "|        49|     24| User_24| 46| user24@example.com|         13|2022-01-13|       9|  Product_49|     Sports|  9.7|              87.3|\n",
      "|        12|      3|  User_3| 36|  user3@example.com|         14|2022-01-14|       4|  Product_12|       Home|  1.3|               5.2|\n",
      "|        39|     22| User_22| 45| user22@example.com|         15|2022-01-15|       4|  Product_39|       Home|  7.3|              29.2|\n",
      "|         2|     53| User_53| 38| user53@example.com|         16|2022-01-16|       1|   Product_2|       Home|  8.3|               8.3|\n",
      "|         3|      2|  User_2| 48|  user2@example.com|         17|2022-01-17|       8|   Product_3|Electronics|  9.2|              73.6|\n",
      "|        49|     88| User_88| 25| user88@example.com|         18|2022-01-18|       3|  Product_49|     Sports|  9.7|29.099999999999998|\n",
      "|        49|     38| User_38| 41| user38@example.com|         20|2022-01-20|       2|  Product_49|     Sports|  9.7|              19.4|\n",
      "|        17|      2|  User_2| 48|  user2@example.com|         21|2022-01-21|       2|  Product_17|Electronics|  8.1|              16.2|\n",
      "|        49|     64| User_64| 26| user64@example.com|         22|2022-01-22|       7|  Product_49|     Sports|  9.7| 67.89999999999999|\n",
      "|         2|     60| User_60| 37| user60@example.com|         23|2022-01-23|       6|   Product_2|       Home|  8.3|49.800000000000004|\n",
      "+----------+-------+--------+---+-------------------+-----------+----------+--------+------------+-----------+-----+------------------+\n",
      "only showing top 20 rows\n",
      "\n"
     ]
    }
   ],
   "source": [
    "# Об'єднаємо дані і додамо загальну суму покупки\n",
    "df_joined = (\n",
    "    df_users.join(df_purchases, \"user_id\")\n",
    "    .join(df_products, \"product_id\")\n",
    "    .withColumn(\"total_cost\", col(\"price\") * col(\"quantity\"))\n",
    ")\n",
    "\n",
    "df_joined.show()\n",
    "# df_joined.printSchema()"
   ]
  },
  {
   "cell_type": "markdown",
   "metadata": {},
   "source": [
    "Визначимо загальну суму покупок по категоріям за допомогою функцій групування та агрегації"
   ]
  },
  {
   "cell_type": "code",
   "execution_count": 4,
   "metadata": {},
   "outputs": [
    {
     "name": "stdout",
     "output_type": "stream",
     "text": [
      "+-----------+---------+\n",
      "|   category|total_sum|\n",
      "+-----------+---------+\n",
      "|       Home|   1438.9|\n",
      "|     Sports|   1755.5|\n",
      "|Electronics|   1141.9|\n",
      "|   Clothing|    696.1|\n",
      "|     Beauty|    441.7|\n",
      "+-----------+---------+\n",
      "\n"
     ]
    }
   ],
   "source": [
    "# Визначимо загальну суму покупок за кожною категорією продуктів\n",
    "\n",
    "df_joined.groupBy(\"category\").agg(\n",
    "    round(_sum(\"total_cost\"), 2).alias(\"total_sum\")\n",
    ").show()"
   ]
  },
  {
   "cell_type": "markdown",
   "metadata": {},
   "source": [
    "### 4. Визначте суму покупок за кожною категорією продуктів для вікової категорії від 18 до 25 включно."
   ]
  },
  {
   "cell_type": "code",
   "execution_count": 5,
   "metadata": {},
   "outputs": [],
   "source": [
    "# Створимо цільовий датафрейм\n",
    "df_18_25 = df_joined.filter(df_joined.age >= 18).filter(df_joined.age <= 25)\n",
    "# df_18_25.show()"
   ]
  },
  {
   "cell_type": "code",
   "execution_count": 6,
   "metadata": {},
   "outputs": [
    {
     "name": "stdout",
     "output_type": "stream",
     "text": [
      "+-----------+---------------+\n",
      "|   category|total_sum_18_25|\n",
      "+-----------+---------------+\n",
      "|       Home|          361.1|\n",
      "|     Sports|          310.5|\n",
      "|Electronics|          249.6|\n",
      "|   Clothing|          245.0|\n",
      "|     Beauty|           41.4|\n",
      "+-----------+---------------+\n",
      "\n"
     ]
    }
   ],
   "source": [
    "# Визначимо суму покупок за кожною категорією продуктів для вікової категорії від 18 до 25 включно.\n",
    "\n",
    "df_18_25.groupBy(\"category\").agg(\n",
    "    round(_sum(\"total_cost\"), 2).alias(\"total_sum_18_25\")\n",
    ").show()"
   ]
  },
  {
   "cell_type": "markdown",
   "metadata": {},
   "source": [
    "### 5. Визначте частку покупок за кожною категорією товарів від сумарних витрат для вікової категорії від 18 до 25 років."
   ]
  },
  {
   "cell_type": "code",
   "execution_count": 7,
   "metadata": {},
   "outputs": [
    {
     "data": {
      "text/plain": [
       "1207.6"
      ]
     },
     "execution_count": 7,
     "metadata": {},
     "output_type": "execute_result"
    }
   ],
   "source": [
    "# Сумарні витрати\n",
    "total_spending_18_25 = df_18_25.agg(\n",
    "    _sum(\"total_cost\").alias(\"total_spending\")\n",
    ").collect()[0][\"total_spending\"]\n",
    "total_spending_18_25"
   ]
  },
  {
   "cell_type": "code",
   "execution_count": 8,
   "metadata": {},
   "outputs": [
    {
     "name": "stdout",
     "output_type": "stream",
     "text": [
      "+-----------+---------------+--------------+\n",
      "|   category|total_sum_18_25|part_sum_18_25|\n",
      "+-----------+---------------+--------------+\n",
      "|       Home|          361.1|          29.9|\n",
      "|     Sports|          310.5|         25.71|\n",
      "|Electronics|          249.6|         20.67|\n",
      "|   Clothing|          245.0|         20.29|\n",
      "|     Beauty|           41.4|          3.43|\n",
      "+-----------+---------------+--------------+\n",
      "\n"
     ]
    }
   ],
   "source": [
    "# Визначимо частку покупок за кожною категорією товарів від сумарних витрат для вікової категорії від 18 до 25 років\n",
    "df_18_25.groupBy(\"category\").agg(\n",
    "    round(_sum(\"total_cost\"), 2).alias(\"total_sum_18_25\"),\n",
    "    round(_sum(\"total_cost\") / total_spending_18_25 * 100, 2).alias(\"part_sum_18_25\"),\n",
    ").show()"
   ]
  },
  {
   "cell_type": "code",
   "execution_count": 9,
   "metadata": {},
   "outputs": [
    {
     "name": "stdout",
     "output_type": "stream",
     "text": [
      "+-----------+---------------+--------------+\n",
      "|   category|total_sum_18_25|part_sum_18_25|\n",
      "+-----------+---------------+--------------+\n",
      "|       Home|          361.1|          29.9|\n",
      "|     Sports|          310.5|         25.71|\n",
      "|Electronics|          249.6|         20.67|\n",
      "+-----------+---------------+--------------+\n",
      "\n"
     ]
    }
   ],
   "source": [
    "# 6 Виберіть 3 категорії продуктів з найвищим відсотком витрат споживачами віком від 18 до 25 років.\n",
    "df_18_25.groupBy(\"category\").agg(\n",
    "    round(_sum(\"total_cost\"), 2).alias(\"total_sum_18_25\"),\n",
    "    round(_sum(\"total_cost\") / total_spending_18_25 * 100, 2).alias(\"part_sum_18_25\"),\n",
    ").sort(\"part_sum_18_25\", ascending=False).limit(3).show()"
   ]
  },
  {
   "cell_type": "code",
   "execution_count": 10,
   "metadata": {},
   "outputs": [
    {
     "name": "stdout",
     "output_type": "stream",
     "text": [
      "+-----------+---------------+--------------+\n",
      "|   category|total_sum_18_25|part_sum_18_25|\n",
      "+-----------+---------------+--------------+\n",
      "|       Home|          361.1|          29.9|\n",
      "|     Sports|          310.5|         25.71|\n",
      "|Electronics|          249.6|         20.67|\n",
      "+-----------+---------------+--------------+\n",
      "\n"
     ]
    }
   ],
   "source": [
    "# 6 Виберіть 3 категорії продуктів з найвищим відсотком витрат споживачами віком від 18 до 25 років.\n",
    "df_joined.filter(df_joined.age >= 18).filter(df_joined.age <= 25).groupBy(\n",
    "    \"category\"\n",
    ").agg(\n",
    "    round(_sum(\"total_cost\"), 2).alias(\"total_sum_18_25\"),\n",
    "    round(_sum(\"total_cost\") / total_spending_18_25 * 100, 2).alias(\"part_sum_18_25\"),\n",
    ").sort(\n",
    "    \"part_sum_18_25\", ascending=False\n",
    ").limit(\n",
    "    3\n",
    ").show()"
   ]
  },
  {
   "cell_type": "code",
   "execution_count": 11,
   "metadata": {},
   "outputs": [],
   "source": [
    "# Зупиняємо Spark\n",
    "spark.stop()"
   ]
  }
 ],
 "metadata": {
  "kernelspec": {
   "display_name": "goit_pyspark_sandbox",
   "language": "python",
   "name": "python3"
  },
  "language_info": {
   "codemirror_mode": {
    "name": "ipython",
    "version": 3
   },
   "file_extension": ".py",
   "mimetype": "text/x-python",
   "name": "python",
   "nbconvert_exporter": "python",
   "pygments_lexer": "ipython3",
   "version": "3.11.10"
  }
 },
 "nbformat": 4,
 "nbformat_minor": 2
}
